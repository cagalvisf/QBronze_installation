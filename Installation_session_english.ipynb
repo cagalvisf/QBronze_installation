{
 "cells": [
  {
   "cell_type": "markdown",
   "id": "8a663bad",
   "metadata": {
    "slideshow": {
     "slide_type": "slide"
    }
   },
   "source": [
    "# Installation session (english)\n",
    "In this session, we are going to set up the most comfortable environment for the development of the QBronze workshop offered by QColombia!\n",
    "\n",
    "In this meeting, we are going to install it in windows but the specifications for Linux or MacOS are very similar and we are going to comment on them when it turns necessary. We are going to use the [Anaconda](https://www.anaconda.com/) distribution where we are going to be able to use a [Jupyter notebook](https://jupyter.org/) that will allow us to execute code written in python language. Once we have installed Anaconda, we are going to use the IBM software development kit for working with quantum computers called [Qiskit.](https://qiskit.org/)."
   ]
  },
  {
   "cell_type": "markdown",
   "id": "hazardous-secondary",
   "metadata": {
    "slideshow": {
     "slide_type": "slide"
    }
   },
   "source": [
    "## Anaconda installation\n",
    "\n",
    "First, we are going to install the python distribution called Anaconda from their official [website](https://www.anaconda.com/products/individual). The installation will be slightly different depending on the operating system you are working on.\n"
   ]
  },
  {
   "cell_type": "markdown",
   "id": "d36d9224",
   "metadata": {
    "slideshow": {
     "slide_type": "fragment"
    }
   },
   "source": [
    "* Windows: After downloading you just have to execute the `.exe` file. Then, accept the terms and conditions and follow the steps to complete the installation."
   ]
  },
  {
   "cell_type": "markdown",
   "id": "e0569f2d",
   "metadata": {
    "slideshow": {
     "slide_type": "fragment"
    }
   },
   "source": [
    "* Linux: The download will give you a `.sh` file. Once you have this file, open a terminal in the directory where the file is located and execute the line `bash File_name.sh`. For example, with the current version of Anaconda, you would have to execute the line `bash Anaconda3-2021.11-Linux-x86_64.sh`."
   ]
  },
  {
   "cell_type": "markdown",
   "id": "9f056678",
   "metadata": {
    "slideshow": {
     "slide_type": "fragment"
    }
   },
   "source": [
    "* MacOS: After downloading you just have to execute the `.pkg` file. Then, accept the terms and conditions and follow the steps to complete the installation."
   ]
  },
  {
   "cell_type": "markdown",
   "id": "0b0a1fa5",
   "metadata": {
    "slideshow": {
     "slide_type": "slide"
    }
   },
   "source": [
    "After the installation, you can execute Anaconda and you will find a window similar to the next one.\n",
    "\n",
    "\n",
    "<center>\n",
    "<img src=\"figures/Anaconda.png\" width=\"1000px\">\n",
    "</center>"
   ]
  },
  {
   "cell_type": "markdown",
   "id": "instructional-married",
   "metadata": {
    "slideshow": {
     "slide_type": "slide"
    }
   },
   "source": [
    "## Qiskit installation\n",
    "\n",
    "Now we have to install Qiskit. For this, we are going to open a terminal on our device. In the case of windows, for example, we look for the `Anaconda prompt` terminal, and then we execute the command `pip install qiskit`.\n",
    "\n",
    "<center>\n",
    "<img src=\"figures/Qiskit_install.png\" width=\"1200px\">\n",
    "\n",
    "Or you can execute the next cell\n"
   ]
  },
  {
   "cell_type": "code",
   "execution_count": 2,
   "id": "7125d49b",
   "metadata": {
    "slideshow": {
     "slide_type": "fragment"
    }
   },
   "outputs": [
    {
     "name": "stdout",
     "output_type": "stream",
     "text": [
      "Requirement already satisfied: qiskit[visualization] in c:\\users\\crist\\appdata\\roaming\\python\\python39\\site-packages (0.34.2)\n",
      "Requirement already satisfied: qiskit-ibmq-provider==0.18.3 in c:\\users\\crist\\anaconda3\\lib\\site-packages (from qiskit[visualization]) (0.18.3)\n",
      "Requirement already satisfied: qiskit-terra==0.19.2 in c:\\users\\crist\\anaconda3\\lib\\site-packages (from qiskit[visualization]) (0.19.2)\n",
      "Requirement already satisfied: qiskit-aer==0.10.3 in c:\\users\\crist\\anaconda3\\lib\\site-packages (from qiskit[visualization]) (0.10.3)\n",
      "Requirement already satisfied: qiskit-ignis==0.7.0 in c:\\users\\crist\\anaconda3\\lib\\site-packages (from qiskit[visualization]) (0.7.0)\n",
      "Requirement already satisfied: pillow>=4.2.1 in c:\\users\\crist\\anaconda3\\lib\\site-packages (from qiskit[visualization]) (8.4.0)\n",
      "Requirement already satisfied: pygments>=2.4 in c:\\users\\crist\\anaconda3\\lib\\site-packages (from qiskit[visualization]) (2.10.0)\n",
      "Requirement already satisfied: matplotlib>=2.1 in c:\\users\\crist\\anaconda3\\lib\\site-packages (from qiskit[visualization]) (3.4.3)\n",
      "Requirement already satisfied: pydot in c:\\users\\crist\\appdata\\roaming\\python\\python39\\site-packages (from qiskit[visualization]) (1.4.2)\n",
      "Requirement already satisfied: seaborn>=0.9.0 in c:\\users\\crist\\anaconda3\\lib\\site-packages (from qiskit[visualization]) (0.11.2)\n",
      "Requirement already satisfied: pylatexenc>=1.4 in c:\\users\\crist\\appdata\\roaming\\python\\python39\\site-packages (from qiskit[visualization]) (2.10)\n",
      "Requirement already satisfied: ipywidgets>=7.3.0 in c:\\users\\crist\\anaconda3\\lib\\site-packages (from qiskit[visualization]) (7.6.5)\n",
      "Requirement already satisfied: numpy>=1.16.3 in c:\\users\\crist\\anaconda3\\lib\\site-packages (from qiskit-aer==0.10.3->qiskit[visualization]) (1.20.3)\n",
      "Requirement already satisfied: scipy>=1.0 in c:\\users\\crist\\anaconda3\\lib\\site-packages (from qiskit-aer==0.10.3->qiskit[visualization]) (1.7.1)\n",
      "Requirement already satisfied: urllib3>=1.21.1 in c:\\users\\crist\\anaconda3\\lib\\site-packages (from qiskit-ibmq-provider==0.18.3->qiskit[visualization]) (1.26.7)\n",
      "Requirement already satisfied: requests>=2.19 in c:\\users\\crist\\anaconda3\\lib\\site-packages (from qiskit-ibmq-provider==0.18.3->qiskit[visualization]) (2.26.0)\n",
      "Requirement already satisfied: python-dateutil>=2.8.0 in c:\\users\\crist\\anaconda3\\lib\\site-packages (from qiskit-ibmq-provider==0.18.3->qiskit[visualization]) (2.8.2)\n",
      "Requirement already satisfied: websocket-client>=1.0.1 in c:\\users\\crist\\anaconda3\\lib\\site-packages (from qiskit-ibmq-provider==0.18.3->qiskit[visualization]) (1.2.3)\n",
      "Requirement already satisfied: requests-ntlm>=1.1.0 in c:\\users\\crist\\anaconda3\\lib\\site-packages (from qiskit-ibmq-provider==0.18.3->qiskit[visualization]) (1.1.0)\n",
      "Requirement already satisfied: retworkx>=0.8.0 in c:\\users\\crist\\anaconda3\\lib\\site-packages (from qiskit-ignis==0.7.0->qiskit[visualization]) (0.11.0)\n",
      "Requirement already satisfied: setuptools>=40.1.0 in c:\\users\\crist\\anaconda3\\lib\\site-packages (from qiskit-ignis==0.7.0->qiskit[visualization]) (58.0.4)\n",
      "Requirement already satisfied: sympy>=1.3 in c:\\users\\crist\\anaconda3\\lib\\site-packages (from qiskit-terra==0.19.2->qiskit[visualization]) (1.9)\n",
      "Requirement already satisfied: stevedore>=3.0.0 in c:\\users\\crist\\anaconda3\\lib\\site-packages (from qiskit-terra==0.19.2->qiskit[visualization]) (3.5.0)\n",
      "Requirement already satisfied: dill>=0.3 in c:\\users\\crist\\anaconda3\\lib\\site-packages (from qiskit-terra==0.19.2->qiskit[visualization]) (0.3.4)\n",
      "Requirement already satisfied: python-constraint>=1.4 in c:\\users\\crist\\anaconda3\\lib\\site-packages (from qiskit-terra==0.19.2->qiskit[visualization]) (1.4.0)\n",
      "Requirement already satisfied: ply>=3.10 in c:\\users\\crist\\anaconda3\\lib\\site-packages (from qiskit-terra==0.19.2->qiskit[visualization]) (3.11)\n",
      "Requirement already satisfied: psutil>=5 in c:\\users\\crist\\anaconda3\\lib\\site-packages (from qiskit-terra==0.19.2->qiskit[visualization]) (5.8.0)\n",
      "Requirement already satisfied: tweedledum<2.0,>=1.1 in c:\\users\\crist\\anaconda3\\lib\\site-packages (from qiskit-terra==0.19.2->qiskit[visualization]) (1.1.1)\n",
      "Requirement already satisfied: ipython-genutils~=0.2.0 in c:\\users\\crist\\appdata\\roaming\\python\\python39\\site-packages (from ipywidgets>=7.3.0->qiskit[visualization]) (0.2.0)\n",
      "Requirement already satisfied: traitlets>=4.3.1 in c:\\users\\crist\\appdata\\roaming\\python\\python39\\site-packages (from ipywidgets>=7.3.0->qiskit[visualization]) (5.0.5)\n",
      "Requirement already satisfied: widgetsnbextension~=3.5.0 in c:\\users\\crist\\anaconda3\\lib\\site-packages (from ipywidgets>=7.3.0->qiskit[visualization]) (3.5.1)\n",
      "Requirement already satisfied: ipykernel>=4.5.1 in c:\\users\\crist\\appdata\\roaming\\python\\python39\\site-packages (from ipywidgets>=7.3.0->qiskit[visualization]) (5.5.0)\n",
      "Requirement already satisfied: nbformat>=4.2.0 in c:\\users\\crist\\anaconda3\\lib\\site-packages (from ipywidgets>=7.3.0->qiskit[visualization]) (5.1.3)\n",
      "Requirement already satisfied: ipython>=4.0.0 in c:\\users\\crist\\appdata\\roaming\\python\\python39\\site-packages (from ipywidgets>=7.3.0->qiskit[visualization]) (7.21.0)\n",
      "Requirement already satisfied: jupyterlab-widgets>=1.0.0 in c:\\users\\crist\\anaconda3\\lib\\site-packages (from ipywidgets>=7.3.0->qiskit[visualization]) (1.0.0)\n",
      "Requirement already satisfied: tornado>=4.2 in c:\\users\\crist\\appdata\\roaming\\python\\python39\\site-packages (from ipykernel>=4.5.1->ipywidgets>=7.3.0->qiskit[visualization]) (6.1)\n",
      "Requirement already satisfied: jupyter-client in c:\\users\\crist\\appdata\\roaming\\python\\python39\\site-packages (from ipykernel>=4.5.1->ipywidgets>=7.3.0->qiskit[visualization]) (6.1.11)\n",
      "Requirement already satisfied: pickleshare in c:\\users\\crist\\appdata\\roaming\\python\\python39\\site-packages (from ipython>=4.0.0->ipywidgets>=7.3.0->qiskit[visualization]) (0.7.5)\n",
      "Requirement already satisfied: jedi>=0.16 in c:\\users\\crist\\appdata\\roaming\\python\\python39\\site-packages (from ipython>=4.0.0->ipywidgets>=7.3.0->qiskit[visualization]) (0.18.0)\n",
      "Requirement already satisfied: colorama in c:\\users\\crist\\anaconda3\\lib\\site-packages (from ipython>=4.0.0->ipywidgets>=7.3.0->qiskit[visualization]) (0.4.4)\n",
      "Requirement already satisfied: decorator in c:\\users\\crist\\anaconda3\\lib\\site-packages (from ipython>=4.0.0->ipywidgets>=7.3.0->qiskit[visualization]) (5.1.0)\n",
      "Requirement already satisfied: backcall in c:\\users\\crist\\appdata\\roaming\\python\\python39\\site-packages (from ipython>=4.0.0->ipywidgets>=7.3.0->qiskit[visualization]) (0.2.0)\n",
      "Requirement already satisfied: prompt-toolkit!=3.0.0,!=3.0.1,<3.1.0,>=2.0.0 in c:\\users\\crist\\appdata\\roaming\\python\\python39\\site-packages (from ipython>=4.0.0->ipywidgets>=7.3.0->qiskit[visualization]) (3.0.16)\n",
      "Requirement already satisfied: parso<0.9.0,>=0.8.0 in c:\\users\\crist\\appdata\\roaming\\python\\python39\\site-packages (from jedi>=0.16->ipython>=4.0.0->ipywidgets>=7.3.0->qiskit[visualization]) (0.8.1)\n",
      "Requirement already satisfied: cycler>=0.10 in c:\\users\\crist\\anaconda3\\lib\\site-packages (from matplotlib>=2.1->qiskit[visualization]) (0.10.0)\n",
      "Requirement already satisfied: kiwisolver>=1.0.1 in c:\\users\\crist\\anaconda3\\lib\\site-packages (from matplotlib>=2.1->qiskit[visualization]) (1.3.1)\n",
      "Requirement already satisfied: pyparsing>=2.2.1 in c:\\users\\crist\\anaconda3\\lib\\site-packages (from matplotlib>=2.1->qiskit[visualization]) (3.0.4)\n",
      "Requirement already satisfied: six in c:\\users\\crist\\anaconda3\\lib\\site-packages (from cycler>=0.10->matplotlib>=2.1->qiskit[visualization]) (1.16.0)\n",
      "Requirement already satisfied: jupyter-core in c:\\users\\crist\\appdata\\roaming\\python\\python39\\site-packages (from nbformat>=4.2.0->ipywidgets>=7.3.0->qiskit[visualization]) (4.7.1)\n",
      "Requirement already satisfied: jsonschema!=2.5.0,>=2.4 in c:\\users\\crist\\anaconda3\\lib\\site-packages (from nbformat>=4.2.0->ipywidgets>=7.3.0->qiskit[visualization]) (3.2.0)\n",
      "Requirement already satisfied: attrs>=17.4.0 in c:\\users\\crist\\anaconda3\\lib\\site-packages (from jsonschema!=2.5.0,>=2.4->nbformat>=4.2.0->ipywidgets>=7.3.0->qiskit[visualization]) (21.2.0)\n",
      "Requirement already satisfied: pyrsistent>=0.14.0 in c:\\users\\crist\\anaconda3\\lib\\site-packages (from jsonschema!=2.5.0,>=2.4->nbformat>=4.2.0->ipywidgets>=7.3.0->qiskit[visualization]) (0.18.0)\n",
      "Requirement already satisfied: wcwidth in c:\\users\\crist\\appdata\\roaming\\python\\python39\\site-packages (from prompt-toolkit!=3.0.0,!=3.0.1,<3.1.0,>=2.0.0->ipython>=4.0.0->ipywidgets>=7.3.0->qiskit[visualization]) (0.2.5)\n",
      "Requirement already satisfied: idna<4,>=2.5 in c:\\users\\crist\\anaconda3\\lib\\site-packages (from requests>=2.19->qiskit-ibmq-provider==0.18.3->qiskit[visualization]) (3.2)\n",
      "Requirement already satisfied: charset-normalizer~=2.0.0 in c:\\users\\crist\\anaconda3\\lib\\site-packages (from requests>=2.19->qiskit-ibmq-provider==0.18.3->qiskit[visualization]) (2.0.4)\n",
      "Requirement already satisfied: certifi>=2017.4.17 in c:\\users\\crist\\anaconda3\\lib\\site-packages (from requests>=2.19->qiskit-ibmq-provider==0.18.3->qiskit[visualization]) (2021.10.8)\n",
      "Requirement already satisfied: ntlm-auth>=1.0.2 in c:\\users\\crist\\anaconda3\\lib\\site-packages (from requests-ntlm>=1.1.0->qiskit-ibmq-provider==0.18.3->qiskit[visualization]) (1.5.0)\n",
      "Requirement already satisfied: cryptography>=1.3 in c:\\users\\crist\\anaconda3\\lib\\site-packages (from requests-ntlm>=1.1.0->qiskit-ibmq-provider==0.18.3->qiskit[visualization]) (3.4.8)\n",
      "Requirement already satisfied: cffi>=1.12 in c:\\users\\crist\\anaconda3\\lib\\site-packages (from cryptography>=1.3->requests-ntlm>=1.1.0->qiskit-ibmq-provider==0.18.3->qiskit[visualization]) (1.14.6)\n",
      "Requirement already satisfied: pycparser in c:\\users\\crist\\anaconda3\\lib\\site-packages (from cffi>=1.12->cryptography>=1.3->requests-ntlm>=1.1.0->qiskit-ibmq-provider==0.18.3->qiskit[visualization]) (2.20)\n",
      "Requirement already satisfied: pandas>=0.23 in c:\\users\\crist\\anaconda3\\lib\\site-packages (from seaborn>=0.9.0->qiskit[visualization]) (1.3.4)\n",
      "Requirement already satisfied: pytz>=2017.3 in c:\\users\\crist\\anaconda3\\lib\\site-packages (from pandas>=0.23->seaborn>=0.9.0->qiskit[visualization]) (2021.3)\n",
      "Requirement already satisfied: pbr!=2.1.0,>=2.0.0 in c:\\users\\crist\\anaconda3\\lib\\site-packages (from stevedore>=3.0.0->qiskit-terra==0.19.2->qiskit[visualization]) (5.8.1)\n",
      "Requirement already satisfied: mpmath>=0.19 in c:\\users\\crist\\anaconda3\\lib\\site-packages (from sympy>=1.3->qiskit-terra==0.19.2->qiskit[visualization]) (1.2.1)\n",
      "Requirement already satisfied: notebook>=4.4.1 in c:\\users\\crist\\anaconda3\\lib\\site-packages (from widgetsnbextension~=3.5.0->ipywidgets>=7.3.0->qiskit[visualization]) (6.4.5)\n",
      "Requirement already satisfied: terminado>=0.8.3 in c:\\users\\crist\\anaconda3\\lib\\site-packages (from notebook>=4.4.1->widgetsnbextension~=3.5.0->ipywidgets>=7.3.0->qiskit[visualization]) (0.9.4)\n",
      "Requirement already satisfied: argon2-cffi in c:\\users\\crist\\anaconda3\\lib\\site-packages (from notebook>=4.4.1->widgetsnbextension~=3.5.0->ipywidgets>=7.3.0->qiskit[visualization]) (20.1.0)\n",
      "Requirement already satisfied: Send2Trash>=1.5.0 in c:\\users\\crist\\anaconda3\\lib\\site-packages (from notebook>=4.4.1->widgetsnbextension~=3.5.0->ipywidgets>=7.3.0->qiskit[visualization]) (1.8.0)\n",
      "Requirement already satisfied: prometheus-client in c:\\users\\crist\\anaconda3\\lib\\site-packages (from notebook>=4.4.1->widgetsnbextension~=3.5.0->ipywidgets>=7.3.0->qiskit[visualization]) (0.11.0)\n",
      "Requirement already satisfied: pyzmq>=17 in c:\\users\\crist\\appdata\\roaming\\python\\python39\\site-packages (from notebook>=4.4.1->widgetsnbextension~=3.5.0->ipywidgets>=7.3.0->qiskit[visualization]) (22.0.3)\n",
      "Requirement already satisfied: jinja2 in c:\\users\\crist\\anaconda3\\lib\\site-packages (from notebook>=4.4.1->widgetsnbextension~=3.5.0->ipywidgets>=7.3.0->qiskit[visualization]) (2.11.3)\n",
      "Requirement already satisfied: nbconvert in c:\\users\\crist\\anaconda3\\lib\\site-packages (from notebook>=4.4.1->widgetsnbextension~=3.5.0->ipywidgets>=7.3.0->qiskit[visualization]) (6.1.0)\n",
      "Requirement already satisfied: pywin32>=1.0 in c:\\users\\crist\\appdata\\roaming\\python\\python39\\site-packages (from jupyter-core->nbformat>=4.2.0->ipywidgets>=7.3.0->qiskit[visualization]) (300)\n",
      "Requirement already satisfied: pywinpty>=0.5 in c:\\users\\crist\\anaconda3\\lib\\site-packages (from terminado>=0.8.3->notebook>=4.4.1->widgetsnbextension~=3.5.0->ipywidgets>=7.3.0->qiskit[visualization]) (0.5.7)\n",
      "Requirement already satisfied: MarkupSafe>=0.23 in c:\\users\\crist\\anaconda3\\lib\\site-packages (from jinja2->notebook>=4.4.1->widgetsnbextension~=3.5.0->ipywidgets>=7.3.0->qiskit[visualization]) (1.1.1)\n",
      "Requirement already satisfied: bleach in c:\\users\\crist\\anaconda3\\lib\\site-packages (from nbconvert->notebook>=4.4.1->widgetsnbextension~=3.5.0->ipywidgets>=7.3.0->qiskit[visualization]) (4.0.0)\n"
     ]
    },
    {
     "name": "stdout",
     "output_type": "stream",
     "text": [
      "Requirement already satisfied: defusedxml in c:\\users\\crist\\anaconda3\\lib\\site-packages (from nbconvert->notebook>=4.4.1->widgetsnbextension~=3.5.0->ipywidgets>=7.3.0->qiskit[visualization]) (0.7.1)\n",
      "Requirement already satisfied: jupyterlab-pygments in c:\\users\\crist\\anaconda3\\lib\\site-packages (from nbconvert->notebook>=4.4.1->widgetsnbextension~=3.5.0->ipywidgets>=7.3.0->qiskit[visualization]) (0.1.2)\n",
      "Requirement already satisfied: testpath in c:\\users\\crist\\anaconda3\\lib\\site-packages (from nbconvert->notebook>=4.4.1->widgetsnbextension~=3.5.0->ipywidgets>=7.3.0->qiskit[visualization]) (0.5.0)\n",
      "Requirement already satisfied: pandocfilters>=1.4.1 in c:\\users\\crist\\anaconda3\\lib\\site-packages (from nbconvert->notebook>=4.4.1->widgetsnbextension~=3.5.0->ipywidgets>=7.3.0->qiskit[visualization]) (1.4.3)\n",
      "Requirement already satisfied: mistune<2,>=0.8.1 in c:\\users\\crist\\anaconda3\\lib\\site-packages (from nbconvert->notebook>=4.4.1->widgetsnbextension~=3.5.0->ipywidgets>=7.3.0->qiskit[visualization]) (0.8.4)\n",
      "Requirement already satisfied: entrypoints>=0.2.2 in c:\\users\\crist\\anaconda3\\lib\\site-packages (from nbconvert->notebook>=4.4.1->widgetsnbextension~=3.5.0->ipywidgets>=7.3.0->qiskit[visualization]) (0.3)\n",
      "Requirement already satisfied: nbclient<0.6.0,>=0.5.0 in c:\\users\\crist\\anaconda3\\lib\\site-packages (from nbconvert->notebook>=4.4.1->widgetsnbextension~=3.5.0->ipywidgets>=7.3.0->qiskit[visualization]) (0.5.3)\n",
      "Requirement already satisfied: nest-asyncio in c:\\users\\crist\\anaconda3\\lib\\site-packages (from nbclient<0.6.0,>=0.5.0->nbconvert->notebook>=4.4.1->widgetsnbextension~=3.5.0->ipywidgets>=7.3.0->qiskit[visualization]) (1.5.1)\n",
      "Requirement already satisfied: async-generator in c:\\users\\crist\\anaconda3\\lib\\site-packages (from nbclient<0.6.0,>=0.5.0->nbconvert->notebook>=4.4.1->widgetsnbextension~=3.5.0->ipywidgets>=7.3.0->qiskit[visualization]) (1.10)\n",
      "Requirement already satisfied: packaging in c:\\users\\crist\\anaconda3\\lib\\site-packages (from bleach->nbconvert->notebook>=4.4.1->widgetsnbextension~=3.5.0->ipywidgets>=7.3.0->qiskit[visualization]) (21.0)\n",
      "Requirement already satisfied: webencodings in c:\\users\\crist\\anaconda3\\lib\\site-packages (from bleach->nbconvert->notebook>=4.4.1->widgetsnbextension~=3.5.0->ipywidgets>=7.3.0->qiskit[visualization]) (0.5.1)\n"
     ]
    }
   ],
   "source": [
    "!pip install \"qiskit[visualization]\" --user\n"
   ]
  },
  {
   "cell_type": "markdown",
   "id": "aafe4d66",
   "metadata": {
    "slideshow": {
     "slide_type": "slide"
    }
   },
   "source": [
    "Once the installation is finished we are going to verify if it is working properly. For this, we open Anaconda and we are going to launch a jupyter notebook by clicking on the **Launch** button as is showed in the next image.\n",
    "\n",
    "<center>\n",
    "<img src=\"figures/jupyter.png\" width=\"300px\">"
   ]
  },
  {
   "cell_type": "markdown",
   "id": "hourly-seeking",
   "metadata": {
    "slideshow": {
     "slide_type": "slide"
    }
   },
   "source": [
    "Another option is, from your terminal, to execute the command `jupyter notebook`.\n",
    "\n",
    "Once you have opened you jupyter notebook you will see something like this.\n",
    "<center>\n",
    "<img src=\"figures/jupyter_window.png\" width=\"1200px\">\n",
    "\n",
    "Here you can organize your directories and files. For example, you should consider creating a directory called `Qcolombia_workshop` and there you can save all the content that you will learn along with the following sessions.\n",
    "\n",
    "To verify if qiskit was installed properly we are going to create a new Python3 notebook by clicking on the **New** button on the right side of the jupyter window."
   ]
  },
  {
   "cell_type": "markdown",
   "id": "controversial-magnitude",
   "metadata": {
    "slideshow": {
     "slide_type": "slide"
    }
   },
   "source": [
    "You will have a jupyter notebook similar to the one that we are using for these slides. Here we are going to type the next python code line to import the `Qiskit` library. If everything is working fine you should get the following."
   ]
  },
  {
   "cell_type": "code",
   "execution_count": 8,
   "id": "funky-criticism",
   "metadata": {
    "slideshow": {
     "slide_type": "fragment"
    }
   },
   "outputs": [],
   "source": [
    "import qiskit\n"
   ]
  },
  {
   "cell_type": "markdown",
   "id": "244f11ff",
   "metadata": {
    "slideshow": {
     "slide_type": "fragment"
    }
   },
   "source": [
    "Now, we can verify the qiskit version in our device."
   ]
  },
  {
   "cell_type": "code",
   "execution_count": 2,
   "id": "billion-plastic",
   "metadata": {
    "slideshow": {
     "slide_type": "fragment"
    }
   },
   "outputs": [
    {
     "name": "stdout",
     "output_type": "stream",
     "text": [
      "The version of Qiskit is 0.34.2\n",
      "\n",
      "The version of each component:\n",
      "qiskit-terra -> 0.19.2\n",
      "qiskit-aer -> 0.10.3\n",
      "qiskit-ignis -> 0.7.0\n",
      "qiskit-ibmq-provider -> 0.18.3\n",
      "qiskit-aqua -> None\n",
      "qiskit -> 0.34.2\n",
      "qiskit-nature -> None\n",
      "qiskit-finance -> None\n",
      "qiskit-optimization -> None\n",
      "qiskit-machine-learning -> None\n"
     ]
    }
   ],
   "source": [
    "import qiskit\n",
    "versions = qiskit.__qiskit_version__\n",
    "print(\"The version of Qiskit is\",versions['qiskit'])\n",
    "print()\n",
    "print(\"The version of each component:\")\n",
    "for key in versions:\n",
    "    print(key,\"->\",versions[key])"
   ]
  },
  {
   "cell_type": "markdown",
   "id": "c2b5c7fc",
   "metadata": {
    "slideshow": {
     "slide_type": "slide"
    }
   },
   "source": [
    "## Register at IBM\n",
    "\n",
    "In order to use the free access quantum processing units offered by IBM, it is necessary to create an IBM account that will provide us an API token that will give us access to these quantum devices.\n",
    "\n",
    "1. Go to the IBM [website](https://quantum-computing.ibm.com/) and create an IBM quantum experience account.\n",
    "2. Here we can find our personal API token to have access to the IBM quantum devices.\n",
    "3. We activate the account on our device and verify that it is working properly."
   ]
  },
  {
   "cell_type": "markdown",
   "id": "14dfed28",
   "metadata": {
    "slideshow": {
     "slide_type": "slide"
    }
   },
   "source": [
    "### 1. Create the account\n",
    "\n",
    "When you get into the IBM quantum experience [website](https://quantum-computing.ibm.com/) and you create an account you will find the next dashboard.\n",
    "<center>\n",
    "<img src=\"figures/IBM_QE_dashboard.png\" width=\"1200px\">\n"
   ]
  },
  {
   "cell_type": "markdown",
   "id": "d1c525f6",
   "metadata": {
    "slideshow": {
     "slide_type": "slide"
    }
   },
   "source": [
    "### 2. Copy you API token\n",
    "The API token is just in front of us as you can see in the window. we can copy it by clicking on the copy symbol as is shown in the following image.\n",
    "<center>\n",
    "<img src=\"figures/API_token.png\" width=\"600px\">"
   ]
  },
  {
   "cell_type": "markdown",
   "id": "dbabf6fd",
   "metadata": {
    "slideshow": {
     "slide_type": "slide"
    }
   },
   "source": [
    "### 3. Activate the account in your device\n",
    "To activate your account you have to open a jupyter notebook. Here you will have to execute the following command."
   ]
  },
  {
   "cell_type": "code",
   "execution_count": 5,
   "id": "82938fff",
   "metadata": {
    "slideshow": {
     "slide_type": "fragment"
    }
   },
   "outputs": [],
   "source": [
    "from qiskit import IBMQ\n"
   ]
  },
  {
   "cell_type": "code",
   "execution_count": null,
   "id": "b9245eb4",
   "metadata": {
    "slideshow": {
     "slide_type": "fragment"
    }
   },
   "outputs": [],
   "source": [
    "IBMQ.save_account('Copy your API token here')\n"
   ]
  },
  {
   "cell_type": "markdown",
   "id": "274f6d51",
   "metadata": {
    "slideshow": {
     "slide_type": "fragment"
    }
   },
   "source": [
    "Now, we execute the following command to verify that our account is saved properly."
   ]
  },
  {
   "cell_type": "code",
   "execution_count": 6,
   "id": "f915bd72",
   "metadata": {
    "slideshow": {
     "slide_type": "fragment"
    }
   },
   "outputs": [
    {
     "data": {
      "text/plain": [
       "<AccountProvider for IBMQ(hub='ibm-q', group='open', project='main')>"
      ]
     },
     "execution_count": 6,
     "metadata": {},
     "output_type": "execute_result"
    }
   ],
   "source": [
    "IBMQ.load_account()\n"
   ]
  },
  {
   "cell_type": "markdown",
   "id": "b1a321b7",
   "metadata": {
    "slideshow": {
     "slide_type": "slide"
    }
   },
   "source": [
    "## Setting up the Qbronze-qiskit material\n",
    "\n",
    "Finally, we have to set up the material for the sessions of the next weeks. The material for this session consists of a collection of Jupyter notebooks that can be downloaded using this [link](https://gitlab.com/qworld/bronze-qiskit).\n",
    "\n",
    "There are two ways for downloading this material.\n",
    "1. You can just go to the repository link and click on download. You can choose the format of your preference.\n",
    "\n",
    "2. Clone the repository using the `git clone https://gitlab.com/qworld/bronze-qiskit.git` command in your terminal. It is important that you are located in the directory where you want to save the material."
   ]
  },
  {
   "cell_type": "markdown",
   "id": "56e0da3f",
   "metadata": {
    "slideshow": {
     "slide_type": "slide"
    }
   },
   "source": [
    "### Direct download\n",
    "Go to the [Qbronze-qiskit](https://gitlab.com/qworld/bronze-qiskit) repository and look for the download button.\n",
    "<center>\n",
    "<img src=\"figures/Qbronze_download.png\" width=\"1000px\">"
   ]
  },
  {
   "cell_type": "markdown",
   "id": "f0c3b274",
   "metadata": {
    "slideshow": {
     "slide_type": "slide"
    }
   },
   "source": [
    "### Clone using the terminal\n",
    "\n",
    "Go to the directory of your preference and type the command `git clone https://gitlab.com/qworld/bronze-qiskit.git`. It is important that you have previously installed Git on your device, if you don't you can follow this [link](https://git-scm.com/book/en/v2/Getting-Started-Installing-Git).\n",
    "<center>\n",
    "<img src=\"figures/Terminal_download.png\" width=\"1200px\">\n"
   ]
  },
  {
   "cell_type": "markdown",
   "id": "dffbaca0",
   "metadata": {
    "slideshow": {
     "slide_type": "slide"
    }
   },
   "source": [
    "Now that we have installed the material we could check if the system is properly working by opening the `before-workshop.ipynb`.\n",
    "\n",
    "You can also see a [pdf document](https://gitlab.com/qworld/bronze-qiskit/-/blob/master/installation.pdf) that could be helpful in your installation process.\n",
    "\n",
    "If there are any questions feel free to contact us."
   ]
  },
  {
   "cell_type": "markdown",
   "id": "94d1c23b",
   "metadata": {
    "slideshow": {
     "slide_type": "slide"
    }
   },
   "source": [
    "<center>\n",
    "    \n",
    "<h1>That's it!\n",
    "\n",
    "<h3>Now your are ready to start this workshop and get into the quantum computing field!<h2>"
   ]
  }
 ],
 "metadata": {
  "celltoolbar": "Slideshow",
  "kernelspec": {
   "display_name": "Python 3 (ipykernel)",
   "language": "python",
   "name": "python3"
  },
  "language_info": {
   "codemirror_mode": {
    "name": "ipython",
    "version": 3
   },
   "file_extension": ".py",
   "mimetype": "text/x-python",
   "name": "python",
   "nbconvert_exporter": "python",
   "pygments_lexer": "ipython3",
   "version": "3.9.7"
  }
 },
 "nbformat": 4,
 "nbformat_minor": 5
}
