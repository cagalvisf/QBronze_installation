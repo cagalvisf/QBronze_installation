{
 "cells": [
  {
   "cell_type": "markdown",
   "id": "8a663bad",
   "metadata": {
    "slideshow": {
     "slide_type": "slide"
    }
   },
   "source": [
    "# Sesión de Instalación (español)\n",
    "\n",
    "En esta sesión vamos a realizar la instalación del entorno más cómodo para el desarrollo del workshop Qbronze por parte de Qcolombia!\n",
    "En esta ocasión realizaremos la instalación en el sistema operativo Windows, para esto utilizamos el entorno de [Anaconda](https://www.anaconda.com/) desde el cual podemos hacer uso de un cuaderno de [Jupyter](https://jupyter.org/) que nos permitirá ejecutar programas en el lenguaje de programación python. Una vez instalado el entorno para hacer uso de python, instalaremos el framework ofrecido por IBM para el manejo de software cuántico [Qiskit.](https://qiskit.org/)"
   ]
  },
  {
   "cell_type": "markdown",
   "id": "hazardous-secondary",
   "metadata": {
    "slideshow": {
     "slide_type": "slide"
    }
   },
   "source": [
    "\n",
    "## Instalación de Anaconda\n",
    "\n",
    "Primero debemos instalar la distribución de python llamada Anaconda desde su [sitio oficial](https://www.anaconda.com/products/individual). La instalación será ligeramente diferente dependiendo del sistema operativo desde el cual se realice la instalación. "
   ]
  },
  {
   "cell_type": "markdown",
   "id": "d36d9224",
   "metadata": {
    "slideshow": {
     "slide_type": "fragment"
    }
   },
   "source": [
    "*  Windows: Únicamente debe ejecutarce el archivo `.exe` de la descarga, y acepte los términos y condiciones. Si desea hacer la instalación en una carpeta específica indiquela siguiendo los pasos."
   ]
  },
  {
   "cell_type": "markdown",
   "id": "e0569f2d",
   "metadata": {
    "slideshow": {
     "slide_type": "fragment"
    }
   },
   "source": [
    "* Linux: La descarga le dará un archivo tipo `.sh`. Una vez tenga este archivo se debe ejecutar la línea `bash Nombre_del_archivo.sh`. Por ejemplo con la versión actual ejecutaría el archivo de la forma `bash Anaconda3-2021.11-Linux-x86_64.sh`."
   ]
  },
  {
   "cell_type": "markdown",
   "id": "9f056678",
   "metadata": {
    "slideshow": {
     "slide_type": "fragment"
    }
   },
   "source": [
    "* MacOS: Debe ejecutarse el archivo `.pkg` que viene de la descarga y seguir las instrucciones de instalación."
   ]
  },
  {
   "cell_type": "markdown",
   "id": "0b0a1fa5",
   "metadata": {
    "slideshow": {
     "slide_type": "slide"
    }
   },
   "source": [
    "\n",
    "Luego de la instalación podremos ejecutar anaconda y nos encontraremos con una ventana similar a la siguiente\n",
    "<center>\n",
    "<img src=\"figures/Anaconda.png\" width=\"1000px\">\n",
    "</center>"
   ]
  },
  {
   "cell_type": "markdown",
   "id": "instructional-married",
   "metadata": {
    "slideshow": {
     "slide_type": "slide"
    }
   },
   "source": [
    "## Instalación de Qiskit\n",
    "\n",
    "Ahora tenemos que realizar la instalación de Qiskit. Para esto vamos a abrir una terminal en nuestro ordenador, en el caso de windows se busca la terminal **Anaconda prompt** y ejecutaremos el comando `pip install qiskit`.\n",
    "<center>\n",
    "<img src=\"figures/Qiskit_install.png\" width=\"1200px\">\n",
    "\n",
    "O puedes ejecutar la siguiente celda\n"
   ]
  },
  {
   "cell_type": "code",
   "execution_count": 1,
   "id": "af1f0fdd",
   "metadata": {
    "slideshow": {
     "slide_type": "fragment"
    }
   },
   "outputs": [
    {
     "name": "stdout",
     "output_type": "stream",
     "text": [
      "Requirement already satisfied: qiskit[visualization] in c:\\users\\crist\\appdata\\roaming\\python\\python39\\site-packages (0.34.2)\n",
      "Requirement already satisfied: qiskit-ignis==0.7.0 in c:\\users\\crist\\anaconda3\\lib\\site-packages (from qiskit[visualization]) (0.7.0)\n",
      "Requirement already satisfied: qiskit-terra==0.19.2 in c:\\users\\crist\\anaconda3\\lib\\site-packages (from qiskit[visualization]) (0.19.2)\n",
      "Requirement already satisfied: qiskit-ibmq-provider==0.18.3 in c:\\users\\crist\\anaconda3\\lib\\site-packages (from qiskit[visualization]) (0.18.3)\n",
      "Requirement already satisfied: qiskit-aer==0.10.3 in c:\\users\\crist\\anaconda3\\lib\\site-packages (from qiskit[visualization]) (0.10.3)\n",
      "Requirement already satisfied: matplotlib>=2.1 in c:\\users\\crist\\anaconda3\\lib\\site-packages (from qiskit[visualization]) (3.4.3)\n",
      "Requirement already satisfied: pillow>=4.2.1 in c:\\users\\crist\\anaconda3\\lib\\site-packages (from qiskit[visualization]) (8.4.0)\n",
      "Requirement already satisfied: pydot in c:\\users\\crist\\appdata\\roaming\\python\\python39\\site-packages (from qiskit[visualization]) (1.4.2)\n",
      "Requirement already satisfied: seaborn>=0.9.0 in c:\\users\\crist\\anaconda3\\lib\\site-packages (from qiskit[visualization]) (0.11.2)\n",
      "Requirement already satisfied: pygments>=2.4 in c:\\users\\crist\\anaconda3\\lib\\site-packages (from qiskit[visualization]) (2.10.0)\n",
      "Requirement already satisfied: ipywidgets>=7.3.0 in c:\\users\\crist\\anaconda3\\lib\\site-packages (from qiskit[visualization]) (7.6.5)\n",
      "Requirement already satisfied: pylatexenc>=1.4 in c:\\users\\crist\\appdata\\roaming\\python\\python39\\site-packages (from qiskit[visualization]) (2.10)\n",
      "Requirement already satisfied: numpy>=1.16.3 in c:\\users\\crist\\anaconda3\\lib\\site-packages (from qiskit-aer==0.10.3->qiskit[visualization]) (1.20.3)\n",
      "Requirement already satisfied: scipy>=1.0 in c:\\users\\crist\\anaconda3\\lib\\site-packages (from qiskit-aer==0.10.3->qiskit[visualization]) (1.7.1)\n",
      "Requirement already satisfied: websocket-client>=1.0.1 in c:\\users\\crist\\anaconda3\\lib\\site-packages (from qiskit-ibmq-provider==0.18.3->qiskit[visualization]) (1.2.3)\n",
      "Requirement already satisfied: requests-ntlm>=1.1.0 in c:\\users\\crist\\anaconda3\\lib\\site-packages (from qiskit-ibmq-provider==0.18.3->qiskit[visualization]) (1.1.0)\n",
      "Requirement already satisfied: python-dateutil>=2.8.0 in c:\\users\\crist\\anaconda3\\lib\\site-packages (from qiskit-ibmq-provider==0.18.3->qiskit[visualization]) (2.8.2)\n",
      "Requirement already satisfied: urllib3>=1.21.1 in c:\\users\\crist\\anaconda3\\lib\\site-packages (from qiskit-ibmq-provider==0.18.3->qiskit[visualization]) (1.26.7)\n",
      "Requirement already satisfied: requests>=2.19 in c:\\users\\crist\\anaconda3\\lib\\site-packages (from qiskit-ibmq-provider==0.18.3->qiskit[visualization]) (2.26.0)\n",
      "Requirement already satisfied: setuptools>=40.1.0 in c:\\users\\crist\\anaconda3\\lib\\site-packages (from qiskit-ignis==0.7.0->qiskit[visualization]) (58.0.4)\n",
      "Requirement already satisfied: retworkx>=0.8.0 in c:\\users\\crist\\anaconda3\\lib\\site-packages (from qiskit-ignis==0.7.0->qiskit[visualization]) (0.11.0)\n",
      "Requirement already satisfied: sympy>=1.3 in c:\\users\\crist\\anaconda3\\lib\\site-packages (from qiskit-terra==0.19.2->qiskit[visualization]) (1.9)\n",
      "Requirement already satisfied: tweedledum<2.0,>=1.1 in c:\\users\\crist\\anaconda3\\lib\\site-packages (from qiskit-terra==0.19.2->qiskit[visualization]) (1.1.1)\n",
      "Requirement already satisfied: dill>=0.3 in c:\\users\\crist\\anaconda3\\lib\\site-packages (from qiskit-terra==0.19.2->qiskit[visualization]) (0.3.4)\n",
      "Requirement already satisfied: python-constraint>=1.4 in c:\\users\\crist\\anaconda3\\lib\\site-packages (from qiskit-terra==0.19.2->qiskit[visualization]) (1.4.0)\n",
      "Requirement already satisfied: psutil>=5 in c:\\users\\crist\\anaconda3\\lib\\site-packages (from qiskit-terra==0.19.2->qiskit[visualization]) (5.8.0)\n",
      "Requirement already satisfied: stevedore>=3.0.0 in c:\\users\\crist\\anaconda3\\lib\\site-packages (from qiskit-terra==0.19.2->qiskit[visualization]) (3.5.0)\n",
      "Requirement already satisfied: ply>=3.10 in c:\\users\\crist\\anaconda3\\lib\\site-packages (from qiskit-terra==0.19.2->qiskit[visualization]) (3.11)\n",
      "Requirement already satisfied: ipython-genutils~=0.2.0 in c:\\users\\crist\\appdata\\roaming\\python\\python39\\site-packages (from ipywidgets>=7.3.0->qiskit[visualization]) (0.2.0)\n",
      "Requirement already satisfied: jupyterlab-widgets>=1.0.0 in c:\\users\\crist\\anaconda3\\lib\\site-packages (from ipywidgets>=7.3.0->qiskit[visualization]) (1.0.0)\n",
      "Requirement already satisfied: widgetsnbextension~=3.5.0 in c:\\users\\crist\\anaconda3\\lib\\site-packages (from ipywidgets>=7.3.0->qiskit[visualization]) (3.5.1)\n",
      "Requirement already satisfied: traitlets>=4.3.1 in c:\\users\\crist\\appdata\\roaming\\python\\python39\\site-packages (from ipywidgets>=7.3.0->qiskit[visualization]) (5.0.5)\n",
      "Requirement already satisfied: nbformat>=4.2.0 in c:\\users\\crist\\anaconda3\\lib\\site-packages (from ipywidgets>=7.3.0->qiskit[visualization]) (5.1.3)\n",
      "Requirement already satisfied: ipython>=4.0.0 in c:\\users\\crist\\appdata\\roaming\\python\\python39\\site-packages (from ipywidgets>=7.3.0->qiskit[visualization]) (7.21.0)\n",
      "Requirement already satisfied: ipykernel>=4.5.1 in c:\\users\\crist\\appdata\\roaming\\python\\python39\\site-packages (from ipywidgets>=7.3.0->qiskit[visualization]) (5.5.0)\n",
      "Requirement already satisfied: tornado>=4.2 in c:\\users\\crist\\appdata\\roaming\\python\\python39\\site-packages (from ipykernel>=4.5.1->ipywidgets>=7.3.0->qiskit[visualization]) (6.1)\n",
      "Requirement already satisfied: jupyter-client in c:\\users\\crist\\appdata\\roaming\\python\\python39\\site-packages (from ipykernel>=4.5.1->ipywidgets>=7.3.0->qiskit[visualization]) (6.1.11)\n",
      "Requirement already satisfied: jedi>=0.16 in c:\\users\\crist\\appdata\\roaming\\python\\python39\\site-packages (from ipython>=4.0.0->ipywidgets>=7.3.0->qiskit[visualization]) (0.18.0)\n",
      "Requirement already satisfied: pickleshare in c:\\users\\crist\\appdata\\roaming\\python\\python39\\site-packages (from ipython>=4.0.0->ipywidgets>=7.3.0->qiskit[visualization]) (0.7.5)\n",
      "Requirement already satisfied: decorator in c:\\users\\crist\\anaconda3\\lib\\site-packages (from ipython>=4.0.0->ipywidgets>=7.3.0->qiskit[visualization]) (5.1.0)\n",
      "Requirement already satisfied: prompt-toolkit!=3.0.0,!=3.0.1,<3.1.0,>=2.0.0 in c:\\users\\crist\\appdata\\roaming\\python\\python39\\site-packages (from ipython>=4.0.0->ipywidgets>=7.3.0->qiskit[visualization]) (3.0.16)\n",
      "Requirement already satisfied: colorama in c:\\users\\crist\\anaconda3\\lib\\site-packages (from ipython>=4.0.0->ipywidgets>=7.3.0->qiskit[visualization]) (0.4.4)\n",
      "Requirement already satisfied: backcall in c:\\users\\crist\\appdata\\roaming\\python\\python39\\site-packages (from ipython>=4.0.0->ipywidgets>=7.3.0->qiskit[visualization]) (0.2.0)\n",
      "Requirement already satisfied: parso<0.9.0,>=0.8.0 in c:\\users\\crist\\appdata\\roaming\\python\\python39\\site-packages (from jedi>=0.16->ipython>=4.0.0->ipywidgets>=7.3.0->qiskit[visualization]) (0.8.1)\n",
      "Requirement already satisfied: kiwisolver>=1.0.1 in c:\\users\\crist\\anaconda3\\lib\\site-packages (from matplotlib>=2.1->qiskit[visualization]) (1.3.1)\n",
      "Requirement already satisfied: cycler>=0.10 in c:\\users\\crist\\anaconda3\\lib\\site-packages (from matplotlib>=2.1->qiskit[visualization]) (0.10.0)\n",
      "Requirement already satisfied: pyparsing>=2.2.1 in c:\\users\\crist\\anaconda3\\lib\\site-packages (from matplotlib>=2.1->qiskit[visualization]) (3.0.4)\n",
      "Requirement already satisfied: six in c:\\users\\crist\\anaconda3\\lib\\site-packages (from cycler>=0.10->matplotlib>=2.1->qiskit[visualization]) (1.16.0)\n",
      "Requirement already satisfied: jupyter-core in c:\\users\\crist\\appdata\\roaming\\python\\python39\\site-packages (from nbformat>=4.2.0->ipywidgets>=7.3.0->qiskit[visualization]) (4.7.1)\n",
      "Requirement already satisfied: jsonschema!=2.5.0,>=2.4 in c:\\users\\crist\\anaconda3\\lib\\site-packages (from nbformat>=4.2.0->ipywidgets>=7.3.0->qiskit[visualization]) (3.2.0)\n",
      "Requirement already satisfied: pyrsistent>=0.14.0 in c:\\users\\crist\\anaconda3\\lib\\site-packages (from jsonschema!=2.5.0,>=2.4->nbformat>=4.2.0->ipywidgets>=7.3.0->qiskit[visualization]) (0.18.0)\n",
      "Requirement already satisfied: attrs>=17.4.0 in c:\\users\\crist\\anaconda3\\lib\\site-packages (from jsonschema!=2.5.0,>=2.4->nbformat>=4.2.0->ipywidgets>=7.3.0->qiskit[visualization]) (21.2.0)\n",
      "Requirement already satisfied: wcwidth in c:\\users\\crist\\appdata\\roaming\\python\\python39\\site-packages (from prompt-toolkit!=3.0.0,!=3.0.1,<3.1.0,>=2.0.0->ipython>=4.0.0->ipywidgets>=7.3.0->qiskit[visualization]) (0.2.5)\n",
      "Requirement already satisfied: idna<4,>=2.5 in c:\\users\\crist\\anaconda3\\lib\\site-packages (from requests>=2.19->qiskit-ibmq-provider==0.18.3->qiskit[visualization]) (3.2)\n",
      "Requirement already satisfied: charset-normalizer~=2.0.0 in c:\\users\\crist\\anaconda3\\lib\\site-packages (from requests>=2.19->qiskit-ibmq-provider==0.18.3->qiskit[visualization]) (2.0.4)\n",
      "Requirement already satisfied: certifi>=2017.4.17 in c:\\users\\crist\\anaconda3\\lib\\site-packages (from requests>=2.19->qiskit-ibmq-provider==0.18.3->qiskit[visualization]) (2021.10.8)\n",
      "Requirement already satisfied: ntlm-auth>=1.0.2 in c:\\users\\crist\\anaconda3\\lib\\site-packages (from requests-ntlm>=1.1.0->qiskit-ibmq-provider==0.18.3->qiskit[visualization]) (1.5.0)\n",
      "Requirement already satisfied: cryptography>=1.3 in c:\\users\\crist\\anaconda3\\lib\\site-packages (from requests-ntlm>=1.1.0->qiskit-ibmq-provider==0.18.3->qiskit[visualization]) (3.4.8)\n",
      "Requirement already satisfied: cffi>=1.12 in c:\\users\\crist\\anaconda3\\lib\\site-packages (from cryptography>=1.3->requests-ntlm>=1.1.0->qiskit-ibmq-provider==0.18.3->qiskit[visualization]) (1.14.6)\n",
      "Requirement already satisfied: pycparser in c:\\users\\crist\\anaconda3\\lib\\site-packages (from cffi>=1.12->cryptography>=1.3->requests-ntlm>=1.1.0->qiskit-ibmq-provider==0.18.3->qiskit[visualization]) (2.20)\n",
      "Requirement already satisfied: pandas>=0.23 in c:\\users\\crist\\anaconda3\\lib\\site-packages (from seaborn>=0.9.0->qiskit[visualization]) (1.3.4)\n",
      "Requirement already satisfied: pytz>=2017.3 in c:\\users\\crist\\anaconda3\\lib\\site-packages (from pandas>=0.23->seaborn>=0.9.0->qiskit[visualization]) (2021.3)\n",
      "Requirement already satisfied: pbr!=2.1.0,>=2.0.0 in c:\\users\\crist\\anaconda3\\lib\\site-packages (from stevedore>=3.0.0->qiskit-terra==0.19.2->qiskit[visualization]) (5.8.1)\n",
      "Requirement already satisfied: mpmath>=0.19 in c:\\users\\crist\\anaconda3\\lib\\site-packages (from sympy>=1.3->qiskit-terra==0.19.2->qiskit[visualization]) (1.2.1)\n",
      "Requirement already satisfied: notebook>=4.4.1 in c:\\users\\crist\\anaconda3\\lib\\site-packages (from widgetsnbextension~=3.5.0->ipywidgets>=7.3.0->qiskit[visualization]) (6.4.5)\n",
      "Requirement already satisfied: prometheus-client in c:\\users\\crist\\anaconda3\\lib\\site-packages (from notebook>=4.4.1->widgetsnbextension~=3.5.0->ipywidgets>=7.3.0->qiskit[visualization]) (0.11.0)\n",
      "Requirement already satisfied: jinja2 in c:\\users\\crist\\anaconda3\\lib\\site-packages (from notebook>=4.4.1->widgetsnbextension~=3.5.0->ipywidgets>=7.3.0->qiskit[visualization]) (2.11.3)\n",
      "Requirement already satisfied: nbconvert in c:\\users\\crist\\anaconda3\\lib\\site-packages (from notebook>=4.4.1->widgetsnbextension~=3.5.0->ipywidgets>=7.3.0->qiskit[visualization]) (6.1.0)\n",
      "Requirement already satisfied: argon2-cffi in c:\\users\\crist\\anaconda3\\lib\\site-packages (from notebook>=4.4.1->widgetsnbextension~=3.5.0->ipywidgets>=7.3.0->qiskit[visualization]) (20.1.0)\n",
      "Requirement already satisfied: pyzmq>=17 in c:\\users\\crist\\appdata\\roaming\\python\\python39\\site-packages (from notebook>=4.4.1->widgetsnbextension~=3.5.0->ipywidgets>=7.3.0->qiskit[visualization]) (22.0.3)\n",
      "Requirement already satisfied: Send2Trash>=1.5.0 in c:\\users\\crist\\anaconda3\\lib\\site-packages (from notebook>=4.4.1->widgetsnbextension~=3.5.0->ipywidgets>=7.3.0->qiskit[visualization]) (1.8.0)\n",
      "Requirement already satisfied: terminado>=0.8.3 in c:\\users\\crist\\anaconda3\\lib\\site-packages (from notebook>=4.4.1->widgetsnbextension~=3.5.0->ipywidgets>=7.3.0->qiskit[visualization]) (0.9.4)\n",
      "Requirement already satisfied: pywin32>=1.0 in c:\\users\\crist\\appdata\\roaming\\python\\python39\\site-packages (from jupyter-core->nbformat>=4.2.0->ipywidgets>=7.3.0->qiskit[visualization]) (300)\n",
      "Requirement already satisfied: pywinpty>=0.5 in c:\\users\\crist\\anaconda3\\lib\\site-packages (from terminado>=0.8.3->notebook>=4.4.1->widgetsnbextension~=3.5.0->ipywidgets>=7.3.0->qiskit[visualization]) (0.5.7)\n",
      "Requirement already satisfied: MarkupSafe>=0.23 in c:\\users\\crist\\anaconda3\\lib\\site-packages (from jinja2->notebook>=4.4.1->widgetsnbextension~=3.5.0->ipywidgets>=7.3.0->qiskit[visualization]) (1.1.1)\n",
      "Requirement already satisfied: pandocfilters>=1.4.1 in c:\\users\\crist\\anaconda3\\lib\\site-packages (from nbconvert->notebook>=4.4.1->widgetsnbextension~=3.5.0->ipywidgets>=7.3.0->qiskit[visualization]) (1.4.3)\n",
      "Requirement already satisfied: defusedxml in c:\\users\\crist\\anaconda3\\lib\\site-packages (from nbconvert->notebook>=4.4.1->widgetsnbextension~=3.5.0->ipywidgets>=7.3.0->qiskit[visualization]) (0.7.1)\n",
      "Requirement already satisfied: nbclient<0.6.0,>=0.5.0 in c:\\users\\crist\\anaconda3\\lib\\site-packages (from nbconvert->notebook>=4.4.1->widgetsnbextension~=3.5.0->ipywidgets>=7.3.0->qiskit[visualization]) (0.5.3)\n",
      "Requirement already satisfied: jupyterlab-pygments in c:\\users\\crist\\anaconda3\\lib\\site-packages (from nbconvert->notebook>=4.4.1->widgetsnbextension~=3.5.0->ipywidgets>=7.3.0->qiskit[visualization]) (0.1.2)\n",
      "Requirement already satisfied: entrypoints>=0.2.2 in c:\\users\\crist\\anaconda3\\lib\\site-packages (from nbconvert->notebook>=4.4.1->widgetsnbextension~=3.5.0->ipywidgets>=7.3.0->qiskit[visualization]) (0.3)\n",
      "Requirement already satisfied: testpath in c:\\users\\crist\\anaconda3\\lib\\site-packages (from nbconvert->notebook>=4.4.1->widgetsnbextension~=3.5.0->ipywidgets>=7.3.0->qiskit[visualization]) (0.5.0)\n",
      "Requirement already satisfied: mistune<2,>=0.8.1 in c:\\users\\crist\\anaconda3\\lib\\site-packages (from nbconvert->notebook>=4.4.1->widgetsnbextension~=3.5.0->ipywidgets>=7.3.0->qiskit[visualization]) (0.8.4)\n",
      "Requirement already satisfied: bleach in c:\\users\\crist\\anaconda3\\lib\\site-packages (from nbconvert->notebook>=4.4.1->widgetsnbextension~=3.5.0->ipywidgets>=7.3.0->qiskit[visualization]) (4.0.0)\n",
      "Requirement already satisfied: async-generator in c:\\users\\crist\\anaconda3\\lib\\site-packages (from nbclient<0.6.0,>=0.5.0->nbconvert->notebook>=4.4.1->widgetsnbextension~=3.5.0->ipywidgets>=7.3.0->qiskit[visualization]) (1.10)\n",
      "Requirement already satisfied: nest-asyncio in c:\\users\\crist\\anaconda3\\lib\\site-packages (from nbclient<0.6.0,>=0.5.0->nbconvert->notebook>=4.4.1->widgetsnbextension~=3.5.0->ipywidgets>=7.3.0->qiskit[visualization]) (1.5.1)\n",
      "Requirement already satisfied: packaging in c:\\users\\crist\\anaconda3\\lib\\site-packages (from bleach->nbconvert->notebook>=4.4.1->widgetsnbextension~=3.5.0->ipywidgets>=7.3.0->qiskit[visualization]) (21.0)\n",
      "Requirement already satisfied: webencodings in c:\\users\\crist\\anaconda3\\lib\\site-packages (from bleach->nbconvert->notebook>=4.4.1->widgetsnbextension~=3.5.0->ipywidgets>=7.3.0->qiskit[visualization]) (0.5.1)\n"
     ]
    }
   ],
   "source": [
    "!pip install \"qiskit[visualization]\" --user\n"
   ]
  },
  {
   "cell_type": "markdown",
   "id": "16bd7685",
   "metadata": {
    "slideshow": {
     "slide_type": "slide"
    }
   },
   "source": [
    "Una vez que se realize la instalación vamos a verificar que ésta se haya hecho de forma correcta. Para esto vamos a abrir Anaconda y vamos a ejecutar un notebook de jupyter haciendo click en el boton **Launch** como el que se muestra en la imagen siguiente\n",
    "<center>\n",
    "<img src=\"figures/jupyter.png\" width=\"300px\">\n",
    "</center>"
   ]
  },
  {
   "cell_type": "markdown",
   "id": "hourly-seeking",
   "metadata": {
    "slideshow": {
     "slide_type": "slide"
    }
   },
   "source": [
    "Otra opción es, desde la terminal, ejecutar el comando `jupyter notebook`.\n",
    "\n",
    "Una vez ejecutado esto veremos una ventana similar a la que se muestra a continuación \n",
    "<center>\n",
    "<img src=\"figures/jupyter_window.png\" width=\"1200px\">\n",
    "\n",
    "Desde acá usted podrá gestionar sus directorios y archivos. Por ejemplo puede crear una carpeta llamada `Qcolombia_workshop` y allí almacenar el contenido que aprenderan a lo largo de las siguientes sesiones.\n",
    "\n",
    "Para comprobar que qiskit funciona vamos a crear un nuevo archivo python3 haciendo uso del boton **New** que se encuentra en la parte derecha de la ventana previamente mostrada.\n"
   ]
  },
  {
   "cell_type": "markdown",
   "id": "controversial-magnitude",
   "metadata": {
    "slideshow": {
     "slide_type": "slide"
    }
   },
   "source": [
    "De este modo se abrirá un cuadernillo similar al que estamos utilizando para mostrar la instalación, acá vamos a escribir la siguiente línea de código que va a importar la librería `Qiskit`. si todo funciona adecuadamente obtendremos lo siguiente."
   ]
  },
  {
   "cell_type": "code",
   "execution_count": 1,
   "id": "funky-criticism",
   "metadata": {
    "slideshow": {
     "slide_type": "fragment"
    }
   },
   "outputs": [],
   "source": [
    "import qiskit"
   ]
  },
  {
   "cell_type": "markdown",
   "id": "244f11ff",
   "metadata": {
    "slideshow": {
     "slide_type": "fragment"
    }
   },
   "source": [
    "\n",
    "Ahora verificamos la versión de qiskit con la que contamos en nuestro dispositivo.\n"
   ]
  },
  {
   "cell_type": "code",
   "execution_count": 2,
   "id": "billion-plastic",
   "metadata": {
    "slideshow": {
     "slide_type": "fragment"
    }
   },
   "outputs": [
    {
     "data": {
      "text/plain": [
       "{'qiskit-terra': '0.19.2', 'qiskit-aer': '0.10.3', 'qiskit-ignis': '0.7.0', 'qiskit-ibmq-provider': '0.18.3', 'qiskit-aqua': None, 'qiskit': '0.34.2', 'qiskit-nature': None, 'qiskit-finance': None, 'qiskit-optimization': None, 'qiskit-machine-learning': None}"
      ]
     },
     "execution_count": 2,
     "metadata": {},
     "output_type": "execute_result"
    }
   ],
   "source": [
    "import qiskit\n",
    "versions = qiskit.__qiskit_version__\n",
    "print(\"La version de Qiskit es\",versions['qiskit'])\n",
    "print()\n",
    "print(\"Las versiones de cada componente son:\")\n",
    "for key in versions:\n",
    "    print(key,\"->\",versions[key])"
   ]
  },
  {
   "cell_type": "markdown",
   "id": "c2b5c7fc",
   "metadata": {
    "slideshow": {
     "slide_type": "slide"
    }
   },
   "source": [
    "## Registro en IBM\n",
    "Para hacer uso de las unidades cuánticas de procesamiento de libre acceso ofrecidad por IBM es necesario que creemos una cuenta y solicitemos un API token que nos brindará acceso a estos dispositivos.\n",
    "\n",
    "1. Ingresamos a la página de IBM y creamos una cuenta en el [sitio web](https://quantum-computing.ibm.com/) de IBM quantum experience.\n",
    "2. Tomamos el API token para acceder a los dispositivos cuánticos de IBM.\n",
    "3. Activamos la cuenta en nuestro dipositivo y verificamos que esta funcione."
   ]
  },
  {
   "cell_type": "markdown",
   "id": "14dfed28",
   "metadata": {
    "slideshow": {
     "slide_type": "slide"
    }
   },
   "source": [
    "### 1. Creación de cuenta\n",
    "Cuando creemos nuestra cuenta de IBM y accedamos a ella vamos a ver un dashboard como el siguiente.\n",
    "<img src=\"figures/IBM_QE_dashboard.png\" width=\"1200px\">\n"
   ]
  },
  {
   "cell_type": "markdown",
   "id": "d1c525f6",
   "metadata": {
    "slideshow": {
     "slide_type": "slide"
    }
   },
   "source": [
    "### 2. Encontrar el API token\n",
    "\n",
    "En este caso nuestro API token se encuentra a la mano, lo podemos copiar haciendo click en el símbolo para copiar el token en el apartado indicado a continuación.\n",
    "<center>\n",
    "<img src=\"figures/API_token.png\" width=\"600px\">"
   ]
  },
  {
   "cell_type": "markdown",
   "id": "dbabf6fd",
   "metadata": {
    "slideshow": {
     "slide_type": "slide"
    }
   },
   "source": [
    "### 3. Activación de la cuenta en nuestro dispositivo\n",
    "Para hacer eso es necesario abrir un notebook de jupyter. Acá vamos a ejecutar el siguiente comando."
   ]
  },
  {
   "cell_type": "code",
   "execution_count": 3,
   "id": "82938fff",
   "metadata": {
    "slideshow": {
     "slide_type": "fragment"
    }
   },
   "outputs": [],
   "source": [
    "from qiskit import IBMQ"
   ]
  },
  {
   "cell_type": "code",
   "execution_count": null,
   "id": "b9245eb4",
   "metadata": {
    "slideshow": {
     "slide_type": "fragment"
    }
   },
   "outputs": [],
   "source": [
    "IBMQ.save_account('Copia acá tu token')"
   ]
  },
  {
   "cell_type": "markdown",
   "id": "274f6d51",
   "metadata": {
    "slideshow": {
     "slide_type": "fragment"
    }
   },
   "source": [
    "Para verificar que funciona adecuadamente ejecutamos el siquiente comando"
   ]
  },
  {
   "cell_type": "code",
   "execution_count": 4,
   "id": "bc42e3e8",
   "metadata": {
    "slideshow": {
     "slide_type": "fragment"
    }
   },
   "outputs": [
    {
     "data": {
      "text/plain": [
       "<AccountProvider for IBMQ(hub='ibm-q', group='open', project='main')>"
      ]
     },
     "execution_count": 4,
     "metadata": {},
     "output_type": "execute_result"
    }
   ],
   "source": [
    "IBMQ.load_account()"
   ]
  },
  {
   "cell_type": "markdown",
   "id": "747cfeab",
   "metadata": {
    "slideshow": {
     "slide_type": "slide"
    }
   },
   "source": [
    "## Descarga del material Qbronze-Qiskit\n",
    "\n",
    "Ahora vamos a descargar el material que utilizaremos durante las siguientes semanas. Este material consiste en una serie de notebooks de Jupyter que pueden ser descargados en este [link](https://gitlab.com/qworld/bronze-qiskit).\n",
    "\n",
    "Hay dos formas de descargat el material.\n",
    "\n",
    "1. Puedes simplemente ir al repositorio del link mencionado y dar click en el botón de descarga. Puedes seleccionar el formato de tu preferencia.\n",
    "\n",
    "2. Clona el repositorio usando el comando `git clone https://gitlab.com/qworld/bronze-qiskit.git` en tu terminal. Es importante que estes localizado en el directorio donde quieras guardar el material."
   ]
  },
  {
   "cell_type": "markdown",
   "id": "180d54b2",
   "metadata": {
    "slideshow": {
     "slide_type": "slide"
    }
   },
   "source": [
    "### Descarga directa\n",
    "Ve al repositoriooo [Qbronze-Qiskit](https://gitlab.com/qworld/bronze-qiskit) y ve al botón de descarga. \n",
    "\n",
    "<center>\n",
    "<img src=\"figures/Qbronze_download.png\" width=\"1000px\">"
   ]
  },
  {
   "cell_type": "markdown",
   "id": "456f4bf7",
   "metadata": {
    "slideshow": {
     "slide_type": "slide"
    }
   },
   "source": [
    "### Clona el repositorio usando la terminal\n",
    "\n",
    "Ve a la carpeta de tu preferencia y escribe el comando `git clone https://gitlab.com/qworld/bronze-qiskit.git`. Es importante que hayas instalado git previamente, si no lo has hecho usa el siguiente [link](https://git-scm.com/book/en/v2/Getting-Started-Installing-Git).\n",
    "<center>\n",
    "<img src=\"figures/Terminal_download.png\" width=\"1200px\">"
   ]
  },
  {
   "cell_type": "markdown",
   "id": "27306f9e",
   "metadata": {
    "slideshow": {
     "slide_type": "slide"
    }
   },
   "source": [
    "Ahora ya tenemos descargado todo el material necesario para seguir el workshop de Qbronze. Puedes hacer una verificación adicional a través del notebook de Jupyter llamado `before-workshop.ipynb`.\n",
    "\n",
    "También puedes consultar este [pdf](https://gitlab.com/qworld/bronze-qiskit/-/blob/master/installation.pdf) que te puede ayudar con tu proceso de instalación.\n",
    "\n",
    "Si tienes preguntas no dudes en contactarnos.\n"
   ]
  },
  {
   "cell_type": "markdown",
   "id": "7d32eac8",
   "metadata": {
    "slideshow": {
     "slide_type": "slide"
    }
   },
   "source": [
    "<center>\n",
    "    \n",
    "<h1>¡Eso es todo!\n",
    "\n",
    "<h3>Ahora estas preparado para empezar este workshop introductorio a computación cuántica<h2>"
   ]
  }
 ],
 "metadata": {
  "celltoolbar": "Slideshow",
  "kernelspec": {
   "display_name": "Python 3 (ipykernel)",
   "language": "python",
   "name": "python3"
  },
  "language_info": {
   "codemirror_mode": {
    "name": "ipython",
    "version": 3
   },
   "file_extension": ".py",
   "mimetype": "text/x-python",
   "name": "python",
   "nbconvert_exporter": "python",
   "pygments_lexer": "ipython3",
   "version": "3.9.7"
  }
 },
 "nbformat": 4,
 "nbformat_minor": 5
}
